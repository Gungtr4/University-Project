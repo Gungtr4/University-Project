{
  "nbformat": 4,
  "nbformat_minor": 0,
  "metadata": {
    "colab": {
      "provenance": [],
      "authorship_tag": "ABX9TyPLwaa+mP9USqAq/dX7P1xz",
      "include_colab_link": true
    },
    "kernelspec": {
      "name": "python3",
      "display_name": "Python 3"
    },
    "language_info": {
      "name": "python"
    }
  },
  "cells": [
    {
      "cell_type": "markdown",
      "metadata": {
        "id": "view-in-github",
        "colab_type": "text"
      },
      "source": [
        "<a href=\"https://colab.research.google.com/github/Gungtr4/University-project/blob/main/Cluster/Kmeans(Online_Retail).ipynb\" target=\"_parent\"><img src=\"https://colab.research.google.com/assets/colab-badge.svg\" alt=\"Open In Colab\"/></a>"
      ]
    },
    {
      "cell_type": "code",
      "metadata": {
        "colab": {
          "resources": {
            "http://localhost:8080/nbextensions/google.colab/files.js": {
              "data": "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",
              "ok": true,
              "headers": [
                [
                  "content-type",
                  "application/javascript"
                ]
              ],
              "status": 200,
              "status_text": ""
            }
          },
          "base_uri": "https://localhost:8080/",
          "height": 72
        },
        "id": "Vc_r9TLDcmrC",
        "outputId": "0f93388b-383b-420e-a949-bea0af0facdd"
      },
      "source": [
        "import pandas as pd\n",
        "import numpy as np\n",
        "import matplotlib.pyplot as plt \n",
        "from google.colab import files\n",
        "uploaded = files.upload()"
      ],
      "execution_count": null,
      "outputs": [
        {
          "output_type": "display_data",
          "data": {
            "text/html": [
              "\n",
              "     <input type=\"file\" id=\"files-8049b4bc-64e7-4c8d-bba6-800a095307e3\" name=\"files[]\" multiple disabled\n",
              "        style=\"border:none\" />\n",
              "     <output id=\"result-8049b4bc-64e7-4c8d-bba6-800a095307e3\">\n",
              "      Upload widget is only available when the cell has been executed in the\n",
              "      current browser session. Please rerun this cell to enable.\n",
              "      </output>\n",
              "      <script src=\"/nbextensions/google.colab/files.js\"></script> "
            ],
            "text/plain": [
              "<IPython.core.display.HTML object>"
            ]
          },
          "metadata": {
            "tags": []
          }
        },
        {
          "output_type": "stream",
          "text": [
            "Saving OR_train.csv to OR_train.csv\n"
          ],
          "name": "stdout"
        }
      ]
    },
    {
      "cell_type": "code",
      "metadata": {
        "colab": {
          "base_uri": "https://localhost:8080/"
        },
        "id": "_wElv-oBdPsB",
        "outputId": "11b88f66-b6fa-4fd5-ba7d-394b37d683ac"
      },
      "source": [
        "df = pd.read_csv(\"OR_train.csv\")\n",
        "df.isnull().sum()"
      ],
      "execution_count": null,
      "outputs": [
        {
          "output_type": "execute_result",
          "data": {
            "text/plain": [
              "InvoiceNo      0\n",
              "StockCode      0\n",
              "Description    1\n",
              "Quantity       0\n",
              "InvoiceDate    0\n",
              "UnitPrice      0\n",
              "CustomerID     1\n",
              "Country        0\n",
              "dtype: int64"
            ]
          },
          "metadata": {
            "tags": []
          },
          "execution_count": 9
        }
      ]
    },
    {
      "cell_type": "code",
      "metadata": {
        "id": "ZqA9MMTbd3NN"
      },
      "source": [
        "df = df.dropna()\n",
        "df['CustomerID'] = df['CustomerID'].astype(str)"
      ],
      "execution_count": null,
      "outputs": []
    },
    {
      "cell_type": "code",
      "metadata": {
        "colab": {
          "base_uri": "https://localhost:8080/",
          "height": 204
        },
        "id": "FqLc6pLAeD5U",
        "outputId": "0eea18ae-6794-4e32-9393-b5b3aae469e7"
      },
      "source": [
        "df['Amount'] = df['UnitPrice'] * df['Quantity']\n",
        "df = df.reset_index()\n",
        "df.head()"
      ],
      "execution_count": null,
      "outputs": [
        {
          "output_type": "execute_result",
          "data": {
            "text/html": [
              "<div>\n",
              "<style scoped>\n",
              "    .dataframe tbody tr th:only-of-type {\n",
              "        vertical-align: middle;\n",
              "    }\n",
              "\n",
              "    .dataframe tbody tr th {\n",
              "        vertical-align: top;\n",
              "    }\n",
              "\n",
              "    .dataframe thead th {\n",
              "        text-align: right;\n",
              "    }\n",
              "</style>\n",
              "<table border=\"1\" class=\"dataframe\">\n",
              "  <thead>\n",
              "    <tr style=\"text-align: right;\">\n",
              "      <th></th>\n",
              "      <th>index</th>\n",
              "      <th>InvoiceNo</th>\n",
              "      <th>StockCode</th>\n",
              "      <th>Description</th>\n",
              "      <th>Quantity</th>\n",
              "      <th>InvoiceDate</th>\n",
              "      <th>UnitPrice</th>\n",
              "      <th>CustomerID</th>\n",
              "      <th>Country</th>\n",
              "      <th>Amount</th>\n",
              "    </tr>\n",
              "  </thead>\n",
              "  <tbody>\n",
              "    <tr>\n",
              "      <th>0</th>\n",
              "      <td>0</td>\n",
              "      <td>536365</td>\n",
              "      <td>85123A</td>\n",
              "      <td>WHITE HANGING HEART T-LIGHT HOLDER</td>\n",
              "      <td>6</td>\n",
              "      <td>1/12/2010 8:26</td>\n",
              "      <td>2.55</td>\n",
              "      <td>17850.0</td>\n",
              "      <td>United Kingdom</td>\n",
              "      <td>15.30</td>\n",
              "    </tr>\n",
              "    <tr>\n",
              "      <th>1</th>\n",
              "      <td>1</td>\n",
              "      <td>536365</td>\n",
              "      <td>71053</td>\n",
              "      <td>WHITE METAL LANTERN</td>\n",
              "      <td>6</td>\n",
              "      <td>1/12/2010 8:26</td>\n",
              "      <td>3.39</td>\n",
              "      <td>17850.0</td>\n",
              "      <td>United Kingdom</td>\n",
              "      <td>20.34</td>\n",
              "    </tr>\n",
              "    <tr>\n",
              "      <th>2</th>\n",
              "      <td>2</td>\n",
              "      <td>536365</td>\n",
              "      <td>84406B</td>\n",
              "      <td>CREAM CUPID HEARTS COAT HANGER</td>\n",
              "      <td>8</td>\n",
              "      <td>1/12/2010 8:26</td>\n",
              "      <td>2.75</td>\n",
              "      <td>17850.0</td>\n",
              "      <td>United Kingdom</td>\n",
              "      <td>22.00</td>\n",
              "    </tr>\n",
              "    <tr>\n",
              "      <th>3</th>\n",
              "      <td>3</td>\n",
              "      <td>536365</td>\n",
              "      <td>84029G</td>\n",
              "      <td>KNITTED UNION FLAG HOT WATER BOTTLE</td>\n",
              "      <td>6</td>\n",
              "      <td>1/12/2010 8:26</td>\n",
              "      <td>3.39</td>\n",
              "      <td>17850.0</td>\n",
              "      <td>United Kingdom</td>\n",
              "      <td>20.34</td>\n",
              "    </tr>\n",
              "    <tr>\n",
              "      <th>4</th>\n",
              "      <td>4</td>\n",
              "      <td>536365</td>\n",
              "      <td>84029E</td>\n",
              "      <td>RED WOOLLY HOTTIE WHITE HEART.</td>\n",
              "      <td>6</td>\n",
              "      <td>1/12/2010 8:26</td>\n",
              "      <td>3.39</td>\n",
              "      <td>17850.0</td>\n",
              "      <td>United Kingdom</td>\n",
              "      <td>20.34</td>\n",
              "    </tr>\n",
              "  </tbody>\n",
              "</table>\n",
              "</div>"
            ],
            "text/plain": [
              "   index InvoiceNo StockCode  ... CustomerID         Country Amount\n",
              "0      0    536365    85123A  ...    17850.0  United Kingdom  15.30\n",
              "1      1    536365     71053  ...    17850.0  United Kingdom  20.34\n",
              "2      2    536365    84406B  ...    17850.0  United Kingdom  22.00\n",
              "3      3    536365    84029G  ...    17850.0  United Kingdom  20.34\n",
              "4      4    536365    84029E  ...    17850.0  United Kingdom  20.34\n",
              "\n",
              "[5 rows x 10 columns]"
            ]
          },
          "metadata": {
            "tags": []
          },
          "execution_count": 11
        }
      ]
    },
    {
      "cell_type": "code",
      "metadata": {
        "colab": {
          "base_uri": "https://localhost:8080/",
          "height": 1000
        },
        "id": "YvD0_nt-ebB1",
        "outputId": "ed63b7d1-bd7b-4b30-f3cb-c0d528e051da"
      },
      "source": [
        "df_amount = df.groupby('CustomerID')['Amount'].sum()\n",
        "df_frequency = df.groupby('CustomerID')['InvoiceNo'].count()\n",
        "df_f = pd.merge(df_amount,df_frequency ,how = 'inner', on='CustomerID')\n",
        "df_f.head(1000)"
      ],
      "execution_count": null,
      "outputs": [
        {
          "output_type": "execute_result",
          "data": {
            "text/html": [
              "<div>\n",
              "<style scoped>\n",
              "    .dataframe tbody tr th:only-of-type {\n",
              "        vertical-align: middle;\n",
              "    }\n",
              "\n",
              "    .dataframe tbody tr th {\n",
              "        vertical-align: top;\n",
              "    }\n",
              "\n",
              "    .dataframe thead th {\n",
              "        text-align: right;\n",
              "    }\n",
              "</style>\n",
              "<table border=\"1\" class=\"dataframe\">\n",
              "  <thead>\n",
              "    <tr style=\"text-align: right;\">\n",
              "      <th></th>\n",
              "      <th>Amount</th>\n",
              "      <th>InvoiceNo</th>\n",
              "    </tr>\n",
              "    <tr>\n",
              "      <th>CustomerID</th>\n",
              "      <th></th>\n",
              "      <th></th>\n",
              "    </tr>\n",
              "  </thead>\n",
              "  <tbody>\n",
              "    <tr>\n",
              "      <th>12431.0</th>\n",
              "      <td>358.25</td>\n",
              "      <td>14</td>\n",
              "    </tr>\n",
              "    <tr>\n",
              "      <th>12583.0</th>\n",
              "      <td>855.86</td>\n",
              "      <td>20</td>\n",
              "    </tr>\n",
              "    <tr>\n",
              "      <th>12791.0</th>\n",
              "      <td>192.60</td>\n",
              "      <td>2</td>\n",
              "    </tr>\n",
              "    <tr>\n",
              "      <th>12838.0</th>\n",
              "      <td>390.79</td>\n",
              "      <td>59</td>\n",
              "    </tr>\n",
              "    <tr>\n",
              "      <th>13047.0</th>\n",
              "      <td>366.63</td>\n",
              "      <td>17</td>\n",
              "    </tr>\n",
              "    <tr>\n",
              "      <th>13255.0</th>\n",
              "      <td>225.70</td>\n",
              "      <td>6</td>\n",
              "    </tr>\n",
              "    <tr>\n",
              "      <th>13408.0</th>\n",
              "      <td>1024.68</td>\n",
              "      <td>11</td>\n",
              "    </tr>\n",
              "    <tr>\n",
              "      <th>13448.0</th>\n",
              "      <td>443.96</td>\n",
              "      <td>18</td>\n",
              "    </tr>\n",
              "    <tr>\n",
              "      <th>13694.0</th>\n",
              "      <td>842.12</td>\n",
              "      <td>6</td>\n",
              "    </tr>\n",
              "    <tr>\n",
              "      <th>13705.0</th>\n",
              "      <td>318.14</td>\n",
              "      <td>10</td>\n",
              "    </tr>\n",
              "    <tr>\n",
              "      <th>13747.0</th>\n",
              "      <td>79.60</td>\n",
              "      <td>1</td>\n",
              "    </tr>\n",
              "    <tr>\n",
              "      <th>13748.0</th>\n",
              "      <td>204.00</td>\n",
              "      <td>1</td>\n",
              "    </tr>\n",
              "    <tr>\n",
              "      <th>13758.0</th>\n",
              "      <td>362.45</td>\n",
              "      <td>17</td>\n",
              "    </tr>\n",
              "    <tr>\n",
              "      <th>13767.0</th>\n",
              "      <td>507.88</td>\n",
              "      <td>14</td>\n",
              "    </tr>\n",
              "    <tr>\n",
              "      <th>14045.0</th>\n",
              "      <td>326.40</td>\n",
              "      <td>1</td>\n",
              "    </tr>\n",
              "    <tr>\n",
              "      <th>14307.0</th>\n",
              "      <td>783.11</td>\n",
              "      <td>48</td>\n",
              "    </tr>\n",
              "    <tr>\n",
              "      <th>14527.0</th>\n",
              "      <td>-27.50</td>\n",
              "      <td>1</td>\n",
              "    </tr>\n",
              "    <tr>\n",
              "      <th>14688.0</th>\n",
              "      <td>444.98</td>\n",
              "      <td>19</td>\n",
              "    </tr>\n",
              "    <tr>\n",
              "      <th>14729.0</th>\n",
              "      <td>268.37</td>\n",
              "      <td>55</td>\n",
              "    </tr>\n",
              "    <tr>\n",
              "      <th>14849.0</th>\n",
              "      <td>355.84</td>\n",
              "      <td>17</td>\n",
              "    </tr>\n",
              "    <tr>\n",
              "      <th>15100.0</th>\n",
              "      <td>350.40</td>\n",
              "      <td>1</td>\n",
              "    </tr>\n",
              "    <tr>\n",
              "      <th>15291.0</th>\n",
              "      <td>328.80</td>\n",
              "      <td>2</td>\n",
              "    </tr>\n",
              "    <tr>\n",
              "      <th>15311.0</th>\n",
              "      <td>445.33</td>\n",
              "      <td>36</td>\n",
              "    </tr>\n",
              "    <tr>\n",
              "      <th>15513.0</th>\n",
              "      <td>357.00</td>\n",
              "      <td>3</td>\n",
              "    </tr>\n",
              "    <tr>\n",
              "      <th>15862.0</th>\n",
              "      <td>354.23</td>\n",
              "      <td>64</td>\n",
              "    </tr>\n",
              "    <tr>\n",
              "      <th>15983.0</th>\n",
              "      <td>440.89</td>\n",
              "      <td>32</td>\n",
              "    </tr>\n",
              "    <tr>\n",
              "      <th>16029.0</th>\n",
              "      <td>3702.12</td>\n",
              "      <td>8</td>\n",
              "    </tr>\n",
              "    <tr>\n",
              "      <th>16098.0</th>\n",
              "      <td>430.60</td>\n",
              "      <td>12</td>\n",
              "    </tr>\n",
              "    <tr>\n",
              "      <th>16210.0</th>\n",
              "      <td>2474.74</td>\n",
              "      <td>14</td>\n",
              "    </tr>\n",
              "    <tr>\n",
              "      <th>16218.0</th>\n",
              "      <td>471.30</td>\n",
              "      <td>28</td>\n",
              "    </tr>\n",
              "    <tr>\n",
              "      <th>16250.0</th>\n",
              "      <td>226.14</td>\n",
              "      <td>14</td>\n",
              "    </tr>\n",
              "    <tr>\n",
              "      <th>16552.0</th>\n",
              "      <td>95.29</td>\n",
              "      <td>5</td>\n",
              "    </tr>\n",
              "    <tr>\n",
              "      <th>16583.0</th>\n",
              "      <td>233.45</td>\n",
              "      <td>14</td>\n",
              "    </tr>\n",
              "    <tr>\n",
              "      <th>17181.0</th>\n",
              "      <td>155.52</td>\n",
              "      <td>2</td>\n",
              "    </tr>\n",
              "    <tr>\n",
              "      <th>17377.0</th>\n",
              "      <td>223.90</td>\n",
              "      <td>15</td>\n",
              "    </tr>\n",
              "    <tr>\n",
              "      <th>17420.0</th>\n",
              "      <td>130.85</td>\n",
              "      <td>7</td>\n",
              "    </tr>\n",
              "    <tr>\n",
              "      <th>17511.0</th>\n",
              "      <td>1825.74</td>\n",
              "      <td>24</td>\n",
              "    </tr>\n",
              "    <tr>\n",
              "      <th>17548.0</th>\n",
              "      <td>-141.48</td>\n",
              "      <td>7</td>\n",
              "    </tr>\n",
              "    <tr>\n",
              "      <th>17809.0</th>\n",
              "      <td>34.80</td>\n",
              "      <td>1</td>\n",
              "    </tr>\n",
              "    <tr>\n",
              "      <th>17850.0</th>\n",
              "      <td>1499.34</td>\n",
              "      <td>84</td>\n",
              "    </tr>\n",
              "    <tr>\n",
              "      <th>17897.0</th>\n",
              "      <td>140.39</td>\n",
              "      <td>36</td>\n",
              "    </tr>\n",
              "    <tr>\n",
              "      <th>17908.0</th>\n",
              "      <td>243.28</td>\n",
              "      <td>58</td>\n",
              "    </tr>\n",
              "    <tr>\n",
              "      <th>17920.0</th>\n",
              "      <td>514.41</td>\n",
              "      <td>81</td>\n",
              "    </tr>\n",
              "    <tr>\n",
              "      <th>17924.0</th>\n",
              "      <td>279.00</td>\n",
              "      <td>2</td>\n",
              "    </tr>\n",
              "    <tr>\n",
              "      <th>17951.0</th>\n",
              "      <td>295.50</td>\n",
              "      <td>5</td>\n",
              "    </tr>\n",
              "    <tr>\n",
              "      <th>17968.0</th>\n",
              "      <td>277.35</td>\n",
              "      <td>85</td>\n",
              "    </tr>\n",
              "    <tr>\n",
              "      <th>18074.0</th>\n",
              "      <td>489.60</td>\n",
              "      <td>13</td>\n",
              "    </tr>\n",
              "    <tr>\n",
              "      <th>18085.0</th>\n",
              "      <td>303.90</td>\n",
              "      <td>9</td>\n",
              "    </tr>\n",
              "  </tbody>\n",
              "</table>\n",
              "</div>"
            ],
            "text/plain": [
              "             Amount  InvoiceNo\n",
              "CustomerID                    \n",
              "12431.0      358.25         14\n",
              "12583.0      855.86         20\n",
              "12791.0      192.60          2\n",
              "12838.0      390.79         59\n",
              "13047.0      366.63         17\n",
              "13255.0      225.70          6\n",
              "13408.0     1024.68         11\n",
              "13448.0      443.96         18\n",
              "13694.0      842.12          6\n",
              "13705.0      318.14         10\n",
              "13747.0       79.60          1\n",
              "13748.0      204.00          1\n",
              "13758.0      362.45         17\n",
              "13767.0      507.88         14\n",
              "14045.0      326.40          1\n",
              "14307.0      783.11         48\n",
              "14527.0      -27.50          1\n",
              "14688.0      444.98         19\n",
              "14729.0      268.37         55\n",
              "14849.0      355.84         17\n",
              "15100.0      350.40          1\n",
              "15291.0      328.80          2\n",
              "15311.0      445.33         36\n",
              "15513.0      357.00          3\n",
              "15862.0      354.23         64\n",
              "15983.0      440.89         32\n",
              "16029.0     3702.12          8\n",
              "16098.0      430.60         12\n",
              "16210.0     2474.74         14\n",
              "16218.0      471.30         28\n",
              "16250.0      226.14         14\n",
              "16552.0       95.29          5\n",
              "16583.0      233.45         14\n",
              "17181.0      155.52          2\n",
              "17377.0      223.90         15\n",
              "17420.0      130.85          7\n",
              "17511.0     1825.74         24\n",
              "17548.0     -141.48          7\n",
              "17809.0       34.80          1\n",
              "17850.0     1499.34         84\n",
              "17897.0      140.39         36\n",
              "17908.0      243.28         58\n",
              "17920.0      514.41         81\n",
              "17924.0      279.00          2\n",
              "17951.0      295.50          5\n",
              "17968.0      277.35         85\n",
              "18074.0      489.60         13\n",
              "18085.0      303.90          9"
            ]
          },
          "metadata": {
            "tags": []
          },
          "execution_count": 12
        }
      ]
    },
    {
      "cell_type": "code",
      "metadata": {
        "colab": {
          "base_uri": "https://localhost:8080/"
        },
        "id": "nX48PfVCvVKk",
        "outputId": "4e43704e-10b1-4443-f895-4389d11bde44"
      },
      "source": [
        "from sklearn.cluster import KMeans\n",
        "from sklearn import preprocessing\n",
        "minimax = preprocessing.MinMaxScaler().fit_transform(df_f)\n",
        "data = pd.DataFrame(minimax, index=df_f.index, columns=df_f.columns)\n",
        "data.info()\n"
      ],
      "execution_count": null,
      "outputs": [
        {
          "output_type": "stream",
          "text": [
            "<class 'pandas.core.frame.DataFrame'>\n",
            "Index: 48 entries, 12431.0 to 18085.0\n",
            "Data columns (total 2 columns):\n",
            " #   Column     Non-Null Count  Dtype  \n",
            "---  ------     --------------  -----  \n",
            " 0   Amount     48 non-null     float64\n",
            " 1   InvoiceNo  48 non-null     float64\n",
            "dtypes: float64(2)\n",
            "memory usage: 1.1+ KB\n"
          ],
          "name": "stdout"
        }
      ]
    },
    {
      "cell_type": "code",
      "metadata": {
        "colab": {
          "base_uri": "https://localhost:8080/",
          "height": 612
        },
        "id": "-ITbkiSSe85X",
        "outputId": "44612093-86d5-46ba-aba5-54c58cfcc880"
      },
      "source": [
        "np.random.seed(60)\n",
        "k = 3\n",
        "centroids = {\n",
        "    i+1: [np.random.uniform(0, 1), np.random.uniform(0, 1)]\n",
        "    for i in range(k)\n",
        "} \n",
        "print(centroids)\n",
        "fig = plt.figure(figsize=(10,10))\n",
        "plt.scatter(data['Amount'],data['InvoiceNo'],color='k')\n",
        "colmap = {1:'r',2:'g',3:'b'}\n",
        "for i in centroids.keys():\n",
        "    plt.scatter(*centroids[i], color =colmap[i])\n",
        "plt.xlim(0,1)\n",
        "plt.ylim(-1,2)\n",
        "plt.show()"
      ],
      "execution_count": null,
      "outputs": [
        {
          "output_type": "stream",
          "text": [
            "{1: [0.30087333004661876, 0.186945816341878], 2: [0.32318267696821945, 0.6657495702883091], 3: [0.5669708009692134, 0.3982539588987647]}\n"
          ],
          "name": "stdout"
        },
        {
          "output_type": "display_data",
          "data": {
            "image/png": "[encoded data removed]",
            "text/plain": [
              "<Figure size 720x720 with 1 Axes>"
            ]
          },
          "metadata": {
            "tags": [],
            "needs_background": "light"
          }
        }
      ]
    },
    {
      "cell_type": "code",
      "metadata": {
        "id": "tNSTT6xImR3D"
      },
      "source": [
        "#assignment \n",
        "def ass(data, centroids):\n",
        "  for i in centroids.keys():\n",
        "    data['distance_from {}'.format(i)] = (\n",
        "        np.sqrt(\n",
        "            (data['Amount'] - centroids[i][0]) **2\n",
        "            +(data['InvoiceNo'] - centroids[i][1]) **2\n",
        "        )\n",
        "    )\n",
        "  centroids_distance_cols = ['distance_from {}'.format(i) for i in centroids.keys()]\n",
        "  data['closest'] = data.loc[:,centroids_distance_cols].idxmin(axis=1)\n",
        "  data['closest'] = data['closest'].map(lambda x: int(x.lstrip('distance_from ')))\n",
        "  data['color'] = data['closest'].map(lambda x: colmap[x])\n",
        "  return data\n",
        "\n",
        "def show_ass(data,centroids):\n",
        "  print(data)\n",
        "  fig = plt.figure(figsize=(10,10))\n",
        "  plt.scatter(data['Amount'],data['InvoiceNo'],color=data['color'],alpha=0.5,edgecolors='k')\n",
        "  colmap = {1:'r',2:'g',3:'b',4:'y'}\n",
        "  for i in centroids.keys():\n",
        "    plt.scatter(*centroids[i], color =colmap[i])\n",
        "  plt.xlim(0,1)\n",
        "  plt.ylim(-1,2)\n",
        "  plt.show()"
      ],
      "execution_count": null,
      "outputs": []
    },
    {
      "cell_type": "code",
      "metadata": {
        "id": "6kjPj6NytezW"
      },
      "source": [
        "#update\n",
        "import copy\n",
        "first_centroids = copy.deepcopy(centroids)\n",
        "old_centroids = copy.deepcopy(centroids)\n",
        "\n",
        "def update(k):\n",
        "  for i in centroids.keys():\n",
        "    centroids[i][0] = np.mean(data[data['closest'] == i]['Amount'])\n",
        "    centroids[i][1] = np.mean(data[data['closest'] == i]['InvoiceNo'])\n",
        "  return k\n",
        "\n",
        "def show_update(data,centroids):\n",
        "  fig = plt.figure(figsize=(10,10))\n",
        "  ax = plt.axes()\n",
        "  plt.scatter(data['Amount'],data['InvoiceNo'],color=data['color'],alpha=0.5,edgecolors='k')\n",
        "  colmap = {1:'r',2:'g',3:'b',4:'y'}\n",
        "  for i in centroids.keys():\n",
        "      plt.scatter(*centroids[i], color =colmap[i])\n",
        "  plt.xlim(0,1)\n",
        "  plt.ylim(-1,2)\n",
        "  for i in old_centroids.keys():\n",
        "    old_x = old_centroids[i][0]\n",
        "    old_y = old_centroids[i][1]\n",
        "    dx =(centroids[i][0] - old_centroids[i][0])* 0.75\n",
        "    dy =(centroids[i][1] - old_centroids[i][1])* 0.75\n",
        "    ax.arrow(old_x, old_y, dx, dy, head_width=0.02, head_length=0.01, fc = colmap[i], ec = colmap[i])\n",
        "  plt.show() \n"
      ],
      "execution_count": null,
      "outputs": []
    },
    {
      "cell_type": "code",
      "metadata": {
        "colab": {
          "base_uri": "https://localhost:8080/",
          "height": 1000
        },
        "id": "TFJKqxSdtvfP",
        "outputId": "de87a74c-6508-4b7e-92b4-461d02f29d04"
      },
      "source": [
        "#loop\n",
        "print('iterasi 1')\n",
        "data = ass(data,centroids)\n",
        "show_ass(data,centroids)\n",
        "i=2\n",
        "while True:\n",
        "  print('iterasi {}'.format(i))\n",
        "  closest_centroids = data['closest'].copy(deep=True)\n",
        "  centroids = update(centroids)\n",
        "  show_update(data,centroids)\n",
        "  data = ass(data,centroids)\n",
        "  show_ass(data,centroids)\n",
        "  i+=1\n",
        "  if closest_centroids.equals(data['closest']):\n",
        "    print('Perubahan Centroids :')\n",
        "    print('Centroid awal')\n",
        "    print(pd.DataFrame(first_centroids))\n",
        "    print('Centroid akhir')\n",
        "    print(pd.DataFrame(centroids))\n",
        "    break"
      ],
      "execution_count": null,
      "outputs": [
        {
          "output_type": "stream",
          "text": [
            "iterasi 1\n",
            "              Amount  InvoiceNo  ...  closest  color\n",
            "CustomerID                       ...                \n",
            "12431.0     0.130016   0.154762  ...        1      r\n",
            "12583.0     0.259481   0.226190  ...        1      r\n",
            "12791.0     0.086919   0.011905  ...        1      r\n",
            "12838.0     0.138482   0.690476  ...        2      g\n",
            "13047.0     0.132196   0.190476  ...        1      r\n",
            "13255.0     0.095530   0.059524  ...        1      r\n",
            "13408.0     0.303403   0.119048  ...        1      r\n",
            "13448.0     0.152316   0.202381  ...        1      r\n",
            "13694.0     0.255906   0.059524  ...        1      r\n",
            "13705.0     0.119581   0.107143  ...        1      r\n",
            "13747.0     0.057519   0.000000  ...        1      r\n",
            "13748.0     0.089884   0.000000  ...        1      r\n",
            "13758.0     0.131109   0.190476  ...        1      r\n",
            "13767.0     0.168946   0.154762  ...        1      r\n",
            "14045.0     0.121730   0.000000  ...        1      r\n",
            "14307.0     0.240553   0.559524  ...        2      g\n",
            "14527.0     0.029654   0.000000  ...        1      r\n",
            "14688.0     0.152581   0.214286  ...        1      r\n",
            "14729.0     0.106632   0.642857  ...        2      g\n",
            "14849.0     0.129389   0.190476  ...        1      r\n",
            "15100.0     0.127974   0.000000  ...        1      r\n",
            "15291.0     0.122354   0.011905  ...        1      r\n",
            "15311.0     0.152672   0.416667  ...        1      r\n",
            "15513.0     0.129691   0.023810  ...        1      r\n",
            "15862.0     0.128970   0.750000  ...        2      g\n",
            "15983.0     0.151517   0.369048  ...        1      r\n",
            "16029.0     1.000000   0.083333  ...        3      b\n",
            "16098.0     0.148840   0.130952  ...        1      r\n",
            "16210.0     0.680669   0.154762  ...        3      b\n",
            "16218.0     0.159429   0.321429  ...        1      r\n",
            "16250.0     0.095645   0.154762  ...        1      r\n",
            "16552.0     0.061601   0.047619  ...        1      r\n",
            "16583.0     0.097547   0.154762  ...        1      r\n",
            "17181.0     0.077271   0.011905  ...        1      r\n",
            "17377.0     0.095062   0.166667  ...        1      r\n",
            "17420.0     0.070853   0.071429  ...        1      r\n",
            "17511.0     0.511817   0.273810  ...        3      b\n",
            "17548.0     0.000000   0.071429  ...        1      r\n",
            "17809.0     0.045863   0.000000  ...        1      r\n",
            "17850.0     0.426897   0.988095  ...        2      g\n",
            "17897.0     0.073335   0.416667  ...        1      r\n",
            "17908.0     0.100104   0.678571  ...        2      g\n",
            "17920.0     0.170645   0.952381  ...        2      g\n",
            "17924.0     0.109397   0.011905  ...        1      r\n",
            "17951.0     0.113690   0.047619  ...        1      r\n",
            "17968.0     0.108968   1.000000  ...        2      g\n",
            "18074.0     0.164190   0.142857  ...        1      r\n",
            "18085.0     0.115876   0.095238  ...        1      r\n",
            "\n",
            "[48 rows x 7 columns]\n"
          ],
          "name": "stdout"
        },
        {
          "output_type": "display_data",
          "data": {
            "image/png": "[encoded data removed]",
            "text/plain": [
              "<Figure size 720x720 with 1 Axes>"
            ]
          },
          "metadata": {
            "tags": [],
            "needs_background": "light"
          }
        },
        {
          "output_type": "stream",
          "text": [
            "iterasi 2\n"
          ],
          "name": "stdout"
        },
        {
          "output_type": "display_data",
          "data": {
            "image/png": "[encoded data removed]",
            "text/plain": [
              "<Figure size 720x720 with 1 Axes>"
            ]
          },
          "metadata": {
            "tags": [],
            "needs_background": "light"
          }
        },
        {
          "output_type": "stream",
          "text": [
            "              Amount  InvoiceNo  ...  closest  color\n",
            "CustomerID                       ...                \n",
            "12431.0     0.130016   0.154762  ...        1      r\n",
            "12583.0     0.259481   0.226190  ...        1      r\n",
            "12791.0     0.086919   0.011905  ...        1      r\n",
            "12838.0     0.138482   0.690476  ...        2      g\n",
            "13047.0     0.132196   0.190476  ...        1      r\n",
            "13255.0     0.095530   0.059524  ...        1      r\n",
            "13408.0     0.303403   0.119048  ...        1      r\n",
            "13448.0     0.152316   0.202381  ...        1      r\n",
            "13694.0     0.255906   0.059524  ...        1      r\n",
            "13705.0     0.119581   0.107143  ...        1      r\n",
            "13747.0     0.057519   0.000000  ...        1      r\n",
            "13748.0     0.089884   0.000000  ...        1      r\n",
            "13758.0     0.131109   0.190476  ...        1      r\n",
            "13767.0     0.168946   0.154762  ...        1      r\n",
            "14045.0     0.121730   0.000000  ...        1      r\n",
            "14307.0     0.240553   0.559524  ...        2      g\n",
            "14527.0     0.029654   0.000000  ...        1      r\n",
            "14688.0     0.152581   0.214286  ...        1      r\n",
            "14729.0     0.106632   0.642857  ...        2      g\n",
            "14849.0     0.129389   0.190476  ...        1      r\n",
            "15100.0     0.127974   0.000000  ...        1      r\n",
            "15291.0     0.122354   0.011905  ...        1      r\n",
            "15311.0     0.152672   0.416667  ...        1      r\n",
            "15513.0     0.129691   0.023810  ...        1      r\n",
            "15862.0     0.128970   0.750000  ...        2      g\n",
            "15983.0     0.151517   0.369048  ...        1      r\n",
            "16029.0     1.000000   0.083333  ...        3      b\n",
            "16098.0     0.148840   0.130952  ...        1      r\n",
            "16210.0     0.680669   0.154762  ...        3      b\n",
            "16218.0     0.159429   0.321429  ...        1      r\n",
            "16250.0     0.095645   0.154762  ...        1      r\n",
            "16552.0     0.061601   0.047619  ...        1      r\n",
            "16583.0     0.097547   0.154762  ...        1      r\n",
            "17181.0     0.077271   0.011905  ...        1      r\n",
            "17377.0     0.095062   0.166667  ...        1      r\n",
            "17420.0     0.070853   0.071429  ...        1      r\n",
            "17511.0     0.511817   0.273810  ...        3      b\n",
            "17548.0     0.000000   0.071429  ...        1      r\n",
            "17809.0     0.045863   0.000000  ...        1      r\n",
            "17850.0     0.426897   0.988095  ...        2      g\n",
            "17897.0     0.073335   0.416667  ...        1      r\n",
            "17908.0     0.100104   0.678571  ...        2      g\n",
            "17920.0     0.170645   0.952381  ...        2      g\n",
            "17924.0     0.109397   0.011905  ...        1      r\n",
            "17951.0     0.113690   0.047619  ...        1      r\n",
            "17968.0     0.108968   1.000000  ...        2      g\n",
            "18074.0     0.164190   0.142857  ...        1      r\n",
            "18085.0     0.115876   0.095238  ...        1      r\n",
            "\n",
            "[48 rows x 7 columns]\n"
          ],
          "name": "stdout"
        },
        {
          "output_type": "display_data",
          "data": {
            "image/png": "[encoded data removed]",
            "text/plain": [
              "<Figure size 720x720 with 1 Axes>"
            ]
          },
          "metadata": {
            "tags": [],
            "needs_background": "light"
          }
        },
        {
          "output_type": "stream",
          "text": [
            "Perubahan Centroids :\n",
            "Centroid awal\n",
            "          1         2         3\n",
            "0  0.300873  0.323183  0.566971\n",
            "1  0.186946  0.665750  0.398254\n",
            "Centroid akhir\n",
            "          1         2         3\n",
            "0  0.122404  0.177656  0.730829\n",
            "1  0.122909  0.782738  0.170635\n"
          ],
          "name": "stdout"
        }
      ]
    },
    {
      "cell_type": "code",
      "metadata": {
        "colab": {
          "base_uri": "https://localhost:8080/"
        },
        "id": "kXf21-D_t0Tn",
        "outputId": "486fc83c-527d-480b-a8c8-e89b5bedd369"
      },
      "source": [
        "potensial = data.groupby('closest')['InvoiceNo'].count()\n",
        "potensial"
      ],
      "execution_count": null,
      "outputs": [
        {
          "output_type": "execute_result",
          "data": {
            "text/plain": [
              "closest\n",
              "1    37\n",
              "2     8\n",
              "3     3\n",
              "Name: InvoiceNo, dtype: int64"
            ]
          },
          "metadata": {
            "tags": []
          },
          "execution_count": 18
        }
      ]
    },
    {
      "cell_type": "code",
      "metadata": {
        "id": "FxPxJn5S-6pi"
      },
      "source": [],
      "execution_count": null,
      "outputs": []
    }
  ]
}